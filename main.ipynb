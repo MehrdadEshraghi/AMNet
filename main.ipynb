{
 "cells": [
  {
   "cell_type": "markdown",
   "metadata": {},
   "source": [
    "# Can Abnormality be Detected by Graph Neural Networks?\n",
    "Ziwei Chai , Siqi You , Yang Yang , Shiliang Pu , Jiarong Xu , Haoyang Cai and Weihao Jiang"
   ]
  },
  {
   "cell_type": "code",
   "execution_count": null,
   "metadata": {},
   "outputs": [],
   "source": [
    "import pandas as pd\n",
    "import matplotlib.pyplot as plt\n",
    "import numpy as np\n",
    "import seaborn as sns\n",
    "import networkx as nx\n",
    "import plotly.graph_objs as go"
   ]
  },
  {
   "cell_type": "code",
   "execution_count": null,
   "metadata": {},
   "outputs": [],
   "source": [
    "df_classes = pd.read_csv(\"./dataset/elliptic_csv/elliptic_txs_classes.csv\")\n",
    "df_edges = pd.read_csv(\"./dataset/elliptic_csv/elliptic_txs_edgelist.csv\")\n",
    "df_features = pd.read_csv(\"./dataset/elliptic_csv/elliptic_txs_features.csv\", header=None)"
   ]
  },
  {
   "cell_type": "code",
   "execution_count": null,
   "metadata": {},
   "outputs": [],
   "source": [
    "df_classes"
   ]
  },
  {
   "cell_type": "code",
   "execution_count": null,
   "metadata": {},
   "outputs": [],
   "source": [
    "df_edges"
   ]
  },
  {
   "cell_type": "code",
   "execution_count": null,
   "metadata": {},
   "outputs": [],
   "source": [
    "print('Shape of classes', df_classes.shape)\n",
    "print('Shape of edges', df_edges.shape)\n",
    "print('Shape of features', df_features.shape)"
   ]
  },
  {
   "cell_type": "code",
   "execution_count": null,
   "metadata": {},
   "outputs": [],
   "source": [
    "tx_features = [\"tx_feat_\"+str(i) for i in range(2,95)]\n",
    "agg_features = [\"agg_feat_\"+str(i) for i in range(1,73)]\n",
    "df_features.columns = [\"txId\",\"Time_step\"] + tx_features + agg_features\n",
    "df_features = pd.merge(df_features,df_classes,left_on=\"txId\",right_on=\"txId\",how='left')\n",
    "df_features['class'] = df_features['class'].apply(lambda x: '0' if x == \"unknown\" else x)"
   ]
  },
  {
   "cell_type": "code",
   "execution_count": null,
   "metadata": {},
   "outputs": [],
   "source": [
    "df_features"
   ]
  },
  {
   "cell_type": "code",
   "execution_count": null,
   "metadata": {},
   "outputs": [],
   "source": [
    "group_class = df_classes.groupby('class').count()\n",
    "plt.barh(['Ilicit', 'Licit', 'Unknown'], group_class['txId'].values, color=['r', 'g', 'orange'] )"
   ]
  },
  {
   "cell_type": "code",
   "execution_count": null,
   "metadata": {},
   "outputs": [],
   "source": [
    "risk_counts = df_features['class'].value_counts()\n",
    "plt.pie(risk_counts.values, labels=risk_counts.index, autopct='%1.1f%%')\n",
    "plt.show()"
   ]
  },
  {
   "cell_type": "code",
   "execution_count": null,
   "metadata": {},
   "outputs": [],
   "source": [
    "group_feature = df_features.groupby('Time_step').count()\n",
    "group_feature['txId'].plot()\n",
    "plt.title('Number of transactions by Time step')"
   ]
  },
  {
   "cell_type": "code",
   "execution_count": null,
   "metadata": {},
   "outputs": [],
   "source": [
    "df_class_feature = pd.merge(df_classes, df_features )"
   ]
  },
  {
   "cell_type": "code",
   "execution_count": null,
   "metadata": {},
   "outputs": [],
   "source": [
    "group_class_feature = df_features.groupby(['Time_step', 'class']).count()\n",
    "group_class_feature = group_class_feature['txId'].reset_index().rename(columns={'txId': 'count'})"
   ]
  },
  {
   "cell_type": "code",
   "execution_count": null,
   "metadata": {},
   "outputs": [],
   "source": [
    "group_class_feature.head()"
   ]
  },
  {
   "cell_type": "code",
   "execution_count": null,
   "metadata": {},
   "outputs": [],
   "source": [
    "sns.lineplot(x='Time_step', y='count', hue='class', data = group_class_feature, palette=['orange', 'r', 'g'] )"
   ]
  },
  {
   "cell_type": "code",
   "execution_count": null,
   "metadata": {},
   "outputs": [],
   "source": [
    "class1 = group_class_feature[group_class_feature['class'] == '1']\n",
    "class2 = group_class_feature[group_class_feature['class'] == '2']\n",
    "class3 = group_class_feature[group_class_feature['class'] == '0' ]\n",
    "\n",
    "p1 = plt.bar(class3['Time_step'], class3['count'], color = 'orange')\n",
    "\n",
    "p2 = plt.bar(class2['Time_step'], class2['count'], color='g', bottom=class3['count'])\n",
    "\n",
    "p3 = plt.bar(class1['Time_step'], class1['count'], color='r', bottom=np.array(class3['count'])+np.array(class2['count']))\n",
    "\n",
    "plt.xlabel('Time_step')"
   ]
  },
  {
   "cell_type": "code",
   "execution_count": null,
   "metadata": {},
   "outputs": [],
   "source": [
    "bad_ids = df_features[(df_features['Time_step'] == 32) & ((df_features['class'] == '1'))]['txId']\n",
    "short_edges = df_edges[df_edges['txId1'].isin(bad_ids)]\n",
    "graph = nx.from_pandas_edgelist(short_edges, source = 'txId1', target = 'txId2', create_using = nx.DiGraph())\n",
    "pos = nx.spring_layout(graph)\n",
    "\n",
    "edge_x = []\n",
    "edge_y = []\n",
    "for edge in graph.edges():\n",
    "    x0, y0 = pos[edge[0]]\n",
    "    x1, y1 = pos[edge[1]]\n",
    "    edge_x.append(x0)\n",
    "    edge_x.append(x1)\n",
    "    edge_x.append(None)\n",
    "    edge_y.append(y0)\n",
    "    edge_y.append(y1)\n",
    "    edge_y.append(None)\n",
    "\n",
    "edge_trace = go.Scatter(\n",
    "    x=edge_x, y=edge_y,\n",
    "    line=dict(width=0.5, color='blue'),\n",
    "    hoverinfo='none',\n",
    "    mode='lines')\n",
    "\n",
    "node_x = []\n",
    "node_y = []\n",
    "node_text=[]\n",
    "for node in graph.nodes():\n",
    "    x, y = pos[node]\n",
    "    node_x.append(x)\n",
    "    node_y.append(y)\n",
    "    node_text.append(node)\n",
    "\n",
    "node_trace = go.Scatter(\n",
    "    x=node_x, y=node_y,\n",
    "    mode='markers',\n",
    "    hoverinfo='text',\n",
    "    marker=dict(\n",
    "        color=[],\n",
    "        size=10,\n",
    "        colorbar=dict(\n",
    "            thickness=15,\n",
    "            title='Transaction Type',\n",
    "            xanchor='left',\n",
    "            titleside='right',\n",
    "            tickmode='array',\n",
    "            tickvals=[0,1,2],\n",
    "            ticktext=['Unknown','Illicit','Licit']\n",
    "        ),\n",
    "        line_width=2))\n",
    "node_trace.text=node_text\n",
    "node_trace.marker.color = pd.to_numeric(df_features[df_features['txId'].isin(list(graph.nodes()))]['class'])\n",
    "\n",
    "fig = go.Figure(data=[edge_trace, node_trace],\n",
    "             layout=go.Layout(\n",
    "                title=\"Illicit Transactions\",\n",
    "                titlefont_size=16,\n",
    "                showlegend=False,\n",
    "                hovermode='closest',\n",
    "                margin=dict(b=20,l=5,r=5,t=40),\n",
    "                annotations=[ dict(\n",
    "                    showarrow=True,\n",
    "                    xref=\"paper\", yref=\"paper\",\n",
    "                    x=0.005, y=-0.002 ) ],\n",
    "                xaxis=dict(showgrid=False, zeroline=False, showticklabels=False),\n",
    "                yaxis=dict(showgrid=False, zeroline=False, showticklabels=False))\n",
    "                )\n",
    "fig.show()"
   ]
  },
  {
   "cell_type": "code",
   "execution_count": null,
   "metadata": {},
   "outputs": [],
   "source": [
    "good_ids = df_features[(df_features['Time_step'] == 32) & ((df_features['class'] == '2'))]['txId']\n",
    "short_edges = df_edges[df_edges['txId1'].isin(good_ids)]\n",
    "graph = nx.from_pandas_edgelist(short_edges, source = 'txId1', target = 'txId2', create_using = nx.DiGraph())\n",
    "pos = nx.spring_layout(graph)\n",
    "\n",
    "edge_x = []\n",
    "edge_y = []\n",
    "for edge in graph.edges():\n",
    "    x0, y0 = pos[edge[0]]\n",
    "    x1, y1 = pos[edge[1]]\n",
    "    edge_x.append(x0)\n",
    "    edge_x.append(x1)\n",
    "    edge_x.append(None)\n",
    "    edge_y.append(y0)\n",
    "    edge_y.append(y1)\n",
    "    edge_y.append(None)\n",
    "\n",
    "edge_trace = go.Scatter(\n",
    "    x=edge_x, y=edge_y,\n",
    "    line=dict(width=0.5, color='blue'),\n",
    "    hoverinfo='none',\n",
    "    mode='lines')\n",
    "\n",
    "node_x = []\n",
    "node_y = []\n",
    "node_text=[]\n",
    "for node in graph.nodes():\n",
    "    x, y = pos[node]\n",
    "    node_x.append(x)\n",
    "    node_y.append(y)\n",
    "    node_text.append(node)\n",
    "\n",
    "node_trace = go.Scatter(\n",
    "    x=node_x, y=node_y,\n",
    "    mode='markers',\n",
    "    hoverinfo='text',\n",
    "    marker=dict(\n",
    "        color=[],\n",
    "        size=10,\n",
    "        colorbar=dict(\n",
    "            thickness=15,\n",
    "            title='Transaction Type',\n",
    "            xanchor='left',\n",
    "            titleside='right',\n",
    "            tickmode='array',\n",
    "            tickvals=[0,1,2],\n",
    "            ticktext=['Unknown','Illicit','Licit']\n",
    "        ),\n",
    "        line_width=2))\n",
    "node_trace.text=node_text\n",
    "node_trace.marker.color = pd.to_numeric(df_features[df_features['txId'].isin(graph.nodes())]['class'])\n",
    "\n",
    "fig = go.Figure(data=[edge_trace, node_trace],\n",
    "                layout=go.Layout(\n",
    "                title=\"Licit Transactions\",\n",
    "                titlefont_size=16,\n",
    "                showlegend=False,\n",
    "                hovermode='closest',\n",
    "                margin=dict(b=20,l=5,r=5,t=40),\n",
    "                annotations=[ dict(\n",
    "                    showarrow=True,\n",
    "                    xref=\"paper\", yref=\"paper\",\n",
    "                    x=0.005, y=-0.002 ) ],\n",
    "                xaxis=dict(showgrid=False, zeroline=False, showticklabels=False),\n",
    "                yaxis=dict(showgrid=False, zeroline=False, showticklabels=False))\n",
    "                )\n",
    "fig.show()"
   ]
  }
 ],
 "metadata": {
  "kernelspec": {
   "display_name": "Python 3",
   "language": "python",
   "name": "python3"
  },
  "language_info": {
   "codemirror_mode": {
    "name": "ipython",
    "version": 3
   },
   "file_extension": ".py",
   "mimetype": "text/x-python",
   "name": "python",
   "nbconvert_exporter": "python",
   "pygments_lexer": "ipython3",
   "version": "3.11.5"
  }
 },
 "nbformat": 4,
 "nbformat_minor": 2
}
