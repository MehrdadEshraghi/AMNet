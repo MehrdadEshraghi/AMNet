{
 "cells": [
  {
   "cell_type": "markdown",
   "metadata": {},
   "source": [
    "# Can Abnormality be Detected by Graph Neural Networks?\n",
    "Ziwei Chai , Siqi You , Yang Yang , Shiliang Pu , Jiarong Xu , Haoyang Cai and Weihao Jiang"
   ]
  },
  {
   "cell_type": "code",
   "execution_count": null,
   "metadata": {},
   "outputs": [],
   "source": [
    "import pandas as pd\n",
    "import matplotlib.pyplot as plt\n",
    "import numpy as np\n",
    "import seaborn as sns\n",
    "import networkx as nx\n",
    "import plotly.graph_objs as go\n",
    "\n",
    "import torch\n",
    "import torch.nn.functional as F\n",
    "import torch.nn as nn\n",
    "from torch_geometric.nn import MessagePassing\n",
    "from torch.nn import Parameter\n",
    "from torch_geometric.utils import remove_self_loops, get_laplacian\n",
    "from numpy import polynomial\n",
    "import math"
   ]
  },
  {
   "cell_type": "code",
   "execution_count": null,
   "metadata": {},
   "outputs": [],
   "source": [
    "df_classes = pd.read_csv(\"./dataset/elliptic_csv/elliptic_txs_classes.csv\")\n",
    "df_edges = pd.read_csv(\"./dataset/elliptic_csv/elliptic_txs_edgelist.csv\")\n",
    "df_features = pd.read_csv(\"./dataset/elliptic_csv/elliptic_txs_features.csv\", header=None)"
   ]
  },
  {
   "cell_type": "code",
   "execution_count": null,
   "metadata": {},
   "outputs": [],
   "source": [
    "df_classes"
   ]
  },
  {
   "cell_type": "code",
   "execution_count": null,
   "metadata": {},
   "outputs": [],
   "source": [
    "df_edges"
   ]
  },
  {
   "cell_type": "code",
   "execution_count": null,
   "metadata": {},
   "outputs": [],
   "source": [
    "print('Shape of classes', df_classes.shape)\n",
    "print('Shape of edges', df_edges.shape)\n",
    "print('Shape of features', df_features.shape)"
   ]
  },
  {
   "cell_type": "code",
   "execution_count": null,
   "metadata": {},
   "outputs": [],
   "source": [
    "tx_features = [\"tx_feat_\"+str(i) for i in range(2,95)]\n",
    "agg_features = [\"agg_feat_\"+str(i) for i in range(1,73)]\n",
    "df_features.columns = [\"txId\",\"Time_step\"] + tx_features + agg_features\n",
    "df_features = pd.merge(df_features,df_classes,left_on=\"txId\",right_on=\"txId\",how='left')\n",
    "df_features['class'] = df_features['class'].apply(lambda x: '0' if x == \"unknown\" else x)"
   ]
  },
  {
   "cell_type": "code",
   "execution_count": null,
   "metadata": {},
   "outputs": [],
   "source": [
    "df_features"
   ]
  },
  {
   "cell_type": "code",
   "execution_count": null,
   "metadata": {},
   "outputs": [],
   "source": [
    "group_class = df_classes.groupby('class').count()\n",
    "plt.barh(['Ilicit', 'Licit', 'Unknown'], group_class['txId'].values, color=['r', 'g', 'orange'] )"
   ]
  },
  {
   "cell_type": "code",
   "execution_count": null,
   "metadata": {},
   "outputs": [],
   "source": [
    "risk_counts = df_features['class'].value_counts()\n",
    "plt.pie(risk_counts.values, labels=risk_counts.index, autopct='%1.1f%%')\n",
    "plt.show()"
   ]
  },
  {
   "cell_type": "code",
   "execution_count": null,
   "metadata": {},
   "outputs": [],
   "source": [
    "group_feature = df_features.groupby('Time_step').count()\n",
    "group_feature['txId'].plot()\n",
    "plt.title('Number of transactions by Time step')"
   ]
  },
  {
   "cell_type": "code",
   "execution_count": null,
   "metadata": {},
   "outputs": [],
   "source": [
    "df_class_feature = pd.merge(df_classes, df_features )"
   ]
  },
  {
   "cell_type": "code",
   "execution_count": null,
   "metadata": {},
   "outputs": [],
   "source": [
    "group_class_feature = df_features.groupby(['Time_step', 'class']).count()\n",
    "group_class_feature = group_class_feature['txId'].reset_index().rename(columns={'txId': 'count'})"
   ]
  },
  {
   "cell_type": "code",
   "execution_count": null,
   "metadata": {},
   "outputs": [],
   "source": [
    "group_class_feature.head()"
   ]
  },
  {
   "cell_type": "code",
   "execution_count": null,
   "metadata": {},
   "outputs": [],
   "source": [
    "sns.lineplot(x='Time_step', y='count', hue='class', data = group_class_feature, palette=['orange', 'r', 'g'] )"
   ]
  },
  {
   "cell_type": "code",
   "execution_count": null,
   "metadata": {},
   "outputs": [],
   "source": [
    "class1 = group_class_feature[group_class_feature['class'] == '1']\n",
    "class2 = group_class_feature[group_class_feature['class'] == '2']\n",
    "class3 = group_class_feature[group_class_feature['class'] == '0' ]\n",
    "\n",
    "p1 = plt.bar(class3['Time_step'], class3['count'], color = 'orange')\n",
    "\n",
    "p2 = plt.bar(class2['Time_step'], class2['count'], color='g', bottom=class3['count'])\n",
    "\n",
    "p3 = plt.bar(class1['Time_step'], class1['count'], color='r', bottom=np.array(class3['count'])+np.array(class2['count']))\n",
    "\n",
    "plt.xlabel('Time_step')"
   ]
  },
  {
   "cell_type": "code",
   "execution_count": null,
   "metadata": {},
   "outputs": [],
   "source": [
    "bad_ids = df_features[(df_features['Time_step'] == 32) & ((df_features['class'] == '1'))]['txId']\n",
    "short_edges = df_edges[df_edges['txId1'].isin(bad_ids)]\n",
    "graph = nx.from_pandas_edgelist(short_edges, source = 'txId1', target = 'txId2', create_using = nx.DiGraph())\n",
    "pos = nx.spring_layout(graph)\n",
    "\n",
    "edge_x = []\n",
    "edge_y = []\n",
    "for edge in graph.edges():\n",
    "    x0, y0 = pos[edge[0]]\n",
    "    x1, y1 = pos[edge[1]]\n",
    "    edge_x.append(x0)\n",
    "    edge_x.append(x1)\n",
    "    edge_x.append(None)\n",
    "    edge_y.append(y0)\n",
    "    edge_y.append(y1)\n",
    "    edge_y.append(None)\n",
    "\n",
    "edge_trace = go.Scatter(\n",
    "    x=edge_x, y=edge_y,\n",
    "    line=dict(width=0.5, color='blue'),\n",
    "    hoverinfo='none',\n",
    "    mode='lines')\n",
    "\n",
    "node_x = []\n",
    "node_y = []\n",
    "node_text=[]\n",
    "for node in graph.nodes():\n",
    "    x, y = pos[node]\n",
    "    node_x.append(x)\n",
    "    node_y.append(y)\n",
    "    node_text.append(node)\n",
    "\n",
    "node_trace = go.Scatter(\n",
    "    x=node_x, y=node_y,\n",
    "    mode='markers',\n",
    "    hoverinfo='text',\n",
    "    marker=dict(\n",
    "        color=[],\n",
    "        size=10,\n",
    "        colorbar=dict(\n",
    "            thickness=15,\n",
    "            title='Transaction Type',\n",
    "            xanchor='left',\n",
    "            titleside='right',\n",
    "            tickmode='array',\n",
    "            tickvals=[0,1,2],\n",
    "            ticktext=['Unknown','Illicit','Licit']\n",
    "        ),\n",
    "        line_width=2))\n",
    "node_trace.text=node_text\n",
    "node_trace.marker.color = pd.to_numeric(df_features[df_features['txId'].isin(list(graph.nodes()))]['class'])\n",
    "\n",
    "fig = go.Figure(data=[edge_trace, node_trace],\n",
    "             layout=go.Layout(\n",
    "                title=\"Illicit Transactions\",\n",
    "                titlefont_size=16,\n",
    "                showlegend=False,\n",
    "                hovermode='closest',\n",
    "                margin=dict(b=20,l=5,r=5,t=40),\n",
    "                annotations=[ dict(\n",
    "                    showarrow=True,\n",
    "                    xref=\"paper\", yref=\"paper\",\n",
    "                    x=0.005, y=-0.002 ) ],\n",
    "                xaxis=dict(showgrid=False, zeroline=False, showticklabels=False),\n",
    "                yaxis=dict(showgrid=False, zeroline=False, showticklabels=False))\n",
    "                )\n",
    "fig.show()"
   ]
  },
  {
   "cell_type": "code",
   "execution_count": null,
   "metadata": {},
   "outputs": [],
   "source": [
    "good_ids = df_features[(df_features['Time_step'] == 32) & ((df_features['class'] == '2'))]['txId']\n",
    "short_edges = df_edges[df_edges['txId1'].isin(good_ids)]\n",
    "graph = nx.from_pandas_edgelist(short_edges, source = 'txId1', target = 'txId2', create_using = nx.DiGraph())\n",
    "pos = nx.spring_layout(graph)\n",
    "\n",
    "edge_x = []\n",
    "edge_y = []\n",
    "for edge in graph.edges():\n",
    "    x0, y0 = pos[edge[0]]\n",
    "    x1, y1 = pos[edge[1]]\n",
    "    edge_x.append(x0)\n",
    "    edge_x.append(x1)\n",
    "    edge_x.append(None)\n",
    "    edge_y.append(y0)\n",
    "    edge_y.append(y1)\n",
    "    edge_y.append(None)\n",
    "\n",
    "edge_trace = go.Scatter(\n",
    "    x=edge_x, y=edge_y,\n",
    "    line=dict(width=0.5, color='blue'),\n",
    "    hoverinfo='none',\n",
    "    mode='lines')\n",
    "\n",
    "node_x = []\n",
    "node_y = []\n",
    "node_text=[]\n",
    "for node in graph.nodes():\n",
    "    x, y = pos[node]\n",
    "    node_x.append(x)\n",
    "    node_y.append(y)\n",
    "    node_text.append(node)\n",
    "\n",
    "node_trace = go.Scatter(\n",
    "    x=node_x, y=node_y,\n",
    "    mode='markers',\n",
    "    hoverinfo='text',\n",
    "    marker=dict(\n",
    "        color=[],\n",
    "        size=10,\n",
    "        colorbar=dict(\n",
    "            thickness=15,\n",
    "            title='Transaction Type',\n",
    "            xanchor='left',\n",
    "            titleside='right',\n",
    "            tickmode='array',\n",
    "            tickvals=[0,1,2],\n",
    "            ticktext=['Unknown','Illicit','Licit']\n",
    "        ),\n",
    "        line_width=2))\n",
    "node_trace.text=node_text\n",
    "node_trace.marker.color = pd.to_numeric(df_features[df_features['txId'].isin(graph.nodes())]['class'])\n",
    "\n",
    "fig = go.Figure(data=[edge_trace, node_trace],\n",
    "                layout=go.Layout(\n",
    "                title=\"Licit Transactions\",\n",
    "                titlefont_size=16,\n",
    "                showlegend=False,\n",
    "                hovermode='closest',\n",
    "                margin=dict(b=20,l=5,r=5,t=40),\n",
    "                annotations=[ dict(\n",
    "                    showarrow=True,\n",
    "                    xref=\"paper\", yref=\"paper\",\n",
    "                    x=0.005, y=-0.002 ) ],\n",
    "                xaxis=dict(showgrid=False, zeroline=False, showticklabels=False),\n",
    "                yaxis=dict(showgrid=False, zeroline=False, showticklabels=False))\n",
    "                )\n",
    "fig.show()"
   ]
  },
  {
   "cell_type": "code",
   "execution_count": null,
   "metadata": {},
   "outputs": [],
   "source": [
    "def Bernstein(de, i):\n",
    "    coefficients = [0, ] * i + [math.comb(de, i)]\n",
    "    first_term = polynomial.polynomial.Polynomial(coefficients)\n",
    "    second_term = polynomial.polynomial.Polynomial([1, -1]) ** (de - i)\n",
    "    return first_term * second_term"
   ]
  },
  {
   "cell_type": "code",
   "execution_count": null,
   "metadata": {},
   "outputs": [],
   "source": [
    "class Conv(MessagePassing):\n",
    "    def __init__(self, hid_channels, K):\n",
    "        super().__init__()\n",
    "        self.K = K\n",
    "        self.in_features = hid_channels\n",
    "        self.out_features = hid_channels\n",
    "        self.weight = Parameter(torch.Tensor(K + 1, 1))\n",
    "        self.bias = Parameter(torch.Tensor(hid_channels))\n",
    "        self.reset_parameters()\n",
    "\n",
    "    def reset_parameters(self):\n",
    "        self.bias.data.fill_(0)\n",
    "        torch.nn.init.zeros_(self.weight)\n",
    "\n",
    "    def message(self, x_j, norm):\n",
    "        return norm.view(-1, 1) * x_j\n",
    "\n",
    "    def __norm__(self, edge_index, num_nodes, e_weight, l_max, dtype=None):\n",
    "        edge_index, e_weight = remove_self_loops(edge_index, e_weight)\n",
    "        edge_index, e_weight = get_laplacian(edge_index, e_weight, 'sym', dtype, num_nodes)\n",
    "\n",
    "        e_weight = e_weight / l_max\n",
    "        e_weight.masked_fill_(e_weight == float('inf'), 0)\n",
    "        return edge_index, e_weight\n",
    "\n",
    "    def forward(self, x, edge_index, e_weight=None, l_max=None):\n",
    "        if l_max is None:\n",
    "            l_max = torch.tensor(2.0, dtype=x.dtype, device=x.device)\n",
    "        if not isinstance(l_max, torch.Tensor):\n",
    "            l_max = torch.tensor(l_max, dtype=x.dtype, device=x.device)\n",
    "\n",
    "        edge_index, norm = self.__norm__(edge_index, x.size(self.node_dim), e_weight, l_max, dtype=x.dtype)\n",
    "\n",
    "        bx = [x]\n",
    "        b_next = x\n",
    "\n",
    "        for _ in range(self.K):\n",
    "            b_next = self.propagate(edge_index, x=b_next, norm=norm, size=None)\n",
    "            bx.append(b_next)\n",
    "\n",
    "        b_coeffs = []\n",
    "        for i in range(self.K + 1):\n",
    "            b_coeffs.append(Bernstein(self.K, i).coef)\n",
    "        \n",
    "        weight = torch.sigmoid(self.weight)\n",
    "\n",
    "        result = torch.zeros_like(x)\n",
    "        for k in range(0, self.K + 1):\n",
    "            coeff = b_coeffs[k]\n",
    "            basis = bx[0] * coeff[0]\n",
    "            for i in range(1, self.K + 1):\n",
    "                basis += bx[i] * coeff[i]\n",
    "            result += basis * weight[k]\n",
    "        return result"
   ]
  },
  {
   "cell_type": "code",
   "execution_count": null,
   "metadata": {},
   "outputs": [],
   "source": [
    "class AMNet(nn.Module):\n",
    "    def __init__(self, in_features, out_features, num_classes, K, num_filters):\n",
    "        super().__init__()\n",
    "        self.linear_transform_in = nn.Sequential(nn.Linear(in_features, out_features), nn.ReLU(), nn.Linear(out_features, out_features))\n",
    "        self.K = K\n",
    "        self.filters = nn.ModuleList([Conv(out_features, K) for _ in range(num_filters)])\n",
    "        self.num_filters = num_filters\n",
    "        self.W_f = nn.Sequential(nn.Linear(out_features, out_features), nn.Tanh())\n",
    "        self.W_x = nn.Sequential(nn.Linear(out_features, out_features), nn.Tanh())\n",
    "        self.linear_cls_out = nn.Sequential(\n",
    "            nn.Dropout(0.3),\n",
    "            nn.Linear(out_features, num_classes)\n",
    "        )\n",
    "\n",
    "        self.attn = list(self.W_x.parameters()) + (list(self.W_f.parameters()))\n",
    "        self.lin = list(self.linear_transform_in.parameters()) + list(self.linear_cls_out.parameters())\n",
    "        self.reset_parameters()\n",
    "\n",
    "    def forward(self, x, edge_index, label=None):\n",
    "        x = self.linear_transform_in(x)\n",
    "        h_list = []\n",
    "        for i, _filter in enumerate(self.filters):\n",
    "            h = _filter(x, edge_index)\n",
    "            h_list.append(h)\n",
    "\n",
    "        _filters = torch.stack(h_list, dim=1)\n",
    "        x_proj = self.W_x(x).unsqueeze(-1)\n",
    "\n",
    "        score = F.softmax(torch.bmm(self.W_f(_filters), x_proj), dim=1)\n",
    "\n",
    "        out = _filters[:, 0, :] * score[:, 0]\n",
    "        for i in range(1, self.num_filters):\n",
    "            out += _filters[:, i, :] * score[:, i]\n",
    "\n",
    "        y_pred = self.linear_cls_out(out)\n",
    "        margin_loss = 0.\n",
    "\n",
    "        if self.training:\n",
    "            abnormal_train, normal_train = label\n",
    "            normal_bias = torch.mean(torch.clamp(score[normal_train][:, 1] - score[normal_train][:, 0], -0.))\n",
    "            abnormal_bias = torch.mean(torch.clamp(score[abnormal_train][:, 0] - score[abnormal_train][:, 1], -0.))\n",
    "            margin_loss = abnormal_bias + normal_bias\n",
    "\n",
    "        if self.training:\n",
    "            return y_pred, margin_loss\n",
    "        else:\n",
    "            return y_pred\n",
    "    \n",
    "    def reset_parameters(self):\n",
    "        pass"
   ]
  },
  {
   "cell_type": "code",
   "execution_count": null,
   "metadata": {},
   "outputs": [],
   "source": []
  }
 ],
 "metadata": {
  "kernelspec": {
   "display_name": "Python 3",
   "language": "python",
   "name": "python3"
  },
  "language_info": {
   "codemirror_mode": {
    "name": "ipython",
    "version": 3
   },
   "file_extension": ".py",
   "mimetype": "text/x-python",
   "name": "python",
   "nbconvert_exporter": "python",
   "pygments_lexer": "ipython3",
   "version": "3.11.5"
  }
 },
 "nbformat": 4,
 "nbformat_minor": 2
}
