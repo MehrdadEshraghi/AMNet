{
 "cells": [
  {
   "cell_type": "markdown",
   "metadata": {},
   "source": [
    "# Can Abnormality be Detected by Graph Neural Networks?\n",
    "Ziwei Chai , Siqi You , Yang Yang , Shiliang Pu , Jiarong Xu , Haoyang Cai and Weihao Jiang"
   ]
  },
  {
   "cell_type": "code",
   "execution_count": null,
   "metadata": {},
   "outputs": [],
   "source": [
    "import pandas as pd\n",
    "import matplotlib.pyplot as plt\n",
    "import numpy as np\n",
    "import seaborn as sns"
   ]
  },
  {
   "cell_type": "code",
   "execution_count": null,
   "metadata": {},
   "outputs": [],
   "source": [
    "df_classes = pd.read_csv(\"./dataset/elliptic_csv/elliptic_txs_classes.csv\")\n",
    "df_edges = pd.read_csv(\"./dataset/elliptic_csv/elliptic_txs_edgelist.csv\")\n",
    "df_features = pd.read_csv(\"./dataset/elliptic_csv/elliptic_txs_features.csv\", header=None)"
   ]
  },
  {
   "cell_type": "code",
   "execution_count": null,
   "metadata": {},
   "outputs": [],
   "source": [
    "df_classes"
   ]
  },
  {
   "cell_type": "code",
   "execution_count": null,
   "metadata": {},
   "outputs": [],
   "source": [
    "df_edges"
   ]
  },
  {
   "cell_type": "code",
   "execution_count": null,
   "metadata": {},
   "outputs": [],
   "source": [
    "print('Shape of classes', df_classes.shape)\n",
    "print('Shape of edges', df_edges.shape)\n",
    "print('Shape of features', df_features.shape)"
   ]
  },
  {
   "cell_type": "code",
   "execution_count": null,
   "metadata": {},
   "outputs": [],
   "source": [
    "tx_features = [\"tx_feat_\"+str(i) for i in range(2,95)]\n",
    "agg_features = [\"agg_feat_\"+str(i) for i in range(1,73)]\n",
    "df_features.columns = [\"txId\",\"Time_step\"] + tx_features + agg_features\n",
    "df_features = pd.merge(df_features,df_classes,left_on=\"txId\",right_on=\"txId\",how='left')\n",
    "df_features['class'] = df_features['class'].apply(lambda x: '0' if x == \"unknown\" else x)"
   ]
  },
  {
   "cell_type": "code",
   "execution_count": null,
   "metadata": {},
   "outputs": [],
   "source": [
    "df_features"
   ]
  },
  {
   "cell_type": "code",
   "execution_count": null,
   "metadata": {},
   "outputs": [],
   "source": [
    "group_class = df_classes.groupby('class').count()\n",
    "plt.barh(['Ilicit', 'Licit', 'Unknown'], group_class['txId'].values, color=['r', 'g', 'orange'] )"
   ]
  },
  {
   "cell_type": "code",
   "execution_count": null,
   "metadata": {},
   "outputs": [],
   "source": [
    "risk_counts = df_features['class'].value_counts()\n",
    "plt.pie(risk_counts.values, labels=risk_counts.index, autopct='%1.1f%%')\n",
    "plt.show()"
   ]
  },
  {
   "cell_type": "code",
   "execution_count": null,
   "metadata": {},
   "outputs": [],
   "source": [
    "group_feature = df_features.groupby('Time_step').count()\n",
    "group_feature['txId'].plot()\n",
    "plt.title('Number of transactions by Time step')"
   ]
  },
  {
   "cell_type": "code",
   "execution_count": null,
   "metadata": {},
   "outputs": [],
   "source": [
    "df_class_feature = pd.merge(df_classes, df_features )"
   ]
  },
  {
   "cell_type": "code",
   "execution_count": null,
   "metadata": {},
   "outputs": [],
   "source": [
    "group_class_feature = df_features.groupby(['Time_step', 'class']).count()\n",
    "group_class_feature = group_class_feature['txId'].reset_index().rename(columns={'txId': 'count'})"
   ]
  },
  {
   "cell_type": "code",
   "execution_count": null,
   "metadata": {},
   "outputs": [],
   "source": [
    "group_class_feature.head()"
   ]
  },
  {
   "cell_type": "code",
   "execution_count": null,
   "metadata": {},
   "outputs": [],
   "source": [
    "sns.lineplot(x='Time_step', y='count', hue='class', data = group_class_feature, palette=['orange', 'r', 'g'] )"
   ]
  },
  {
   "cell_type": "code",
   "execution_count": null,
   "metadata": {},
   "outputs": [],
   "source": [
    "class1 = group_class_feature[group_class_feature['class'] == '1']\n",
    "class2 = group_class_feature[group_class_feature['class'] == '2']\n",
    "class3 = group_class_feature[group_class_feature['class'] == '0' ]\n",
    "\n",
    "p1 = plt.bar(class3['Time_step'], class3['count'], color = 'orange')\n",
    "\n",
    "p2 = plt.bar(class2['Time_step'], class2['count'], color='g',\n",
    "             bottom=class3['count'])\n",
    "\n",
    "p3 = plt.bar(class1['Time_step'], class1['count'], color='r',\n",
    "             bottom=np.array(class3['count'])+np.array(class2['count']))\n",
    "\n",
    "plt.xlabel('Time_step')"
   ]
  }
 ],
 "metadata": {
  "kernelspec": {
   "display_name": "Python 3",
   "language": "python",
   "name": "python3"
  },
  "language_info": {
   "codemirror_mode": {
    "name": "ipython",
    "version": 3
   },
   "file_extension": ".py",
   "mimetype": "text/x-python",
   "name": "python",
   "nbconvert_exporter": "python",
   "pygments_lexer": "ipython3",
   "version": "3.11.5"
  }
 },
 "nbformat": 4,
 "nbformat_minor": 2
}
